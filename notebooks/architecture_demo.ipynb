{
 "cells": [
  {
   "cell_type": "markdown",
   "id": "d473acee",
   "metadata": {},
   "source": [
    "# Exploratory Notebook for architecture setup"
   ]
  },
  {
   "cell_type": "markdown",
   "id": "e3dbc20e",
   "metadata": {},
   "source": [
    "We will be using GPT2 small for quick testing. Currently, I'm following the guide from [here](https://colab.research.google.com/github/jbloomAus/SAELens/blob/main/tutorials/basic_loading_and_analysing.ipynb#scrollTo=sNSfL80Uv611)"
   ]
  },
  {
   "cell_type": "code",
   "execution_count": null,
   "id": "1cf8f972",
   "metadata": {},
   "outputs": [],
   "source": [
    "%load_ext autoreload\n",
    "%autoreload 2\n",
    "# The above lines are used to automatically reload modules before executing code\n",
    "\n",
    "from fsrl import SAEAdapter"
   ]
  },
  {
   "cell_type": "code",
   "execution_count": 3,
   "id": "7c5131e8",
   "metadata": {},
   "outputs": [
    {
     "name": "stderr",
     "output_type": "stream",
     "text": [
      "/home/jazhyc/projects/FSRL/feature-steering-RL/.venv/lib/python3.11/site-packages/sae_lens/sae.py:151: UserWarning: \n",
      "This SAE has non-empty model_from_pretrained_kwargs. \n",
      "For optimal performance, load the model like so:\n",
      "model = HookedSAETransformer.from_pretrained_no_processing(..., **cfg.model_from_pretrained_kwargs)\n",
      "  warnings.warn(\n"
     ]
    }
   ],
   "source": [
    "release = \"gpt2-small-res-jb\"\n",
    "sae_id = \"blocks.7.hook_resid_pre\"\n",
    "sae, cfg_dict, sparsity = SAEAdapter.from_pretrained(release, sae_id)"
   ]
  },
  {
   "cell_type": "markdown",
   "id": "b2bf4cac",
   "metadata": {},
   "source": [
    "We should be mindful of the loading warning. For now, I will ignore it"
   ]
  },
  {
   "cell_type": "code",
   "execution_count": 4,
   "id": "829279f3",
   "metadata": {},
   "outputs": [
    {
     "name": "stdout",
     "output_type": "stream",
     "text": [
      "SAEAdapter(\n",
      "  (activation_fn): ReLU()\n",
      "  (hook_sae_input): HookPoint()\n",
      "  (hook_sae_acts_pre): HookPoint()\n",
      "  (hook_sae_acts_post): HookPoint()\n",
      "  (hook_sae_output): HookPoint()\n",
      "  (hook_sae_recons): HookPoint()\n",
      "  (hook_sae_error): HookPoint()\n",
      ")\n"
     ]
    }
   ],
   "source": [
    "print(sae)"
   ]
  },
  {
   "cell_type": "markdown",
   "id": "9ed31268",
   "metadata": {},
   "source": [
    "Hookpoints are used for caching activations in the model. These can be accessed through run_with_cache which stores the activations in a dictionary using the hookpoint names as keys."
   ]
  },
  {
   "cell_type": "code",
   "execution_count": 6,
   "id": "84a635f8",
   "metadata": {},
   "outputs": [
    {
     "name": "stdout",
     "output_type": "stream",
     "text": [
      "Loaded pretrained model gpt2-small into HookedTransformer\n"
     ]
    }
   ],
   "source": [
    "from transformer_lens import HookedTransformer\n",
    "import torch\n",
    "\n",
    "# MPS support maybe?\n",
    "device = torch.device(\"cuda\" if torch.cuda.is_available() else \"cpu\")\n",
    "model = HookedTransformer.from_pretrained(\"gpt2-small\", device=device)"
   ]
  }
 ],
 "metadata": {
  "kernelspec": {
   "display_name": ".venv",
   "language": "python",
   "name": "python3"
  },
  "language_info": {
   "codemirror_mode": {
    "name": "ipython",
    "version": 3
   },
   "file_extension": ".py",
   "mimetype": "text/x-python",
   "name": "python",
   "nbconvert_exporter": "python",
   "pygments_lexer": "ipython3",
   "version": "3.11.12"
  }
 },
 "nbformat": 4,
 "nbformat_minor": 5
}
