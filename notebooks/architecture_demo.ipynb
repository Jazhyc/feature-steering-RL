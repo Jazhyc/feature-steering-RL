{
 "cells": [
  {
   "cell_type": "markdown",
   "id": "d473acee",
   "metadata": {},
   "source": [
    "# Exploratory Notebook for architecture setup"
   ]
  },
  {
   "cell_type": "markdown",
   "id": "e3dbc20e",
   "metadata": {},
   "source": [
    "We will be using GPT2 small for quick testing. Currently, I'm following the guide from [here](https://colab.research.google.com/github/jbloomAus/SAELens/blob/main/tutorials/basic_loading_and_analysing.ipynb#scrollTo=sNSfL80Uv611)"
   ]
  },
  {
   "cell_type": "code",
   "execution_count": 1,
   "id": "1cf8f972",
   "metadata": {},
   "outputs": [],
   "source": [
    "%load_ext autoreload\n",
    "%autoreload 2\n",
    "# The above lines are used to automatically reload modules before executing code\n",
    "\n",
    "from fsrl import SAEAdapter\n",
    "import torch"
   ]
  },
  {
   "cell_type": "code",
   "execution_count": 2,
   "id": "7c5131e8",
   "metadata": {},
   "outputs": [
    {
     "name": "stderr",
     "output_type": "stream",
     "text": [
      "/home/jazhyc/projects/FSRL/feature-steering-RL/.venv/lib/python3.11/site-packages/sae_lens/sae.py:151: UserWarning: \n",
      "This SAE has non-empty model_from_pretrained_kwargs. \n",
      "For optimal performance, load the model like so:\n",
      "model = HookedSAETransformer.from_pretrained_no_processing(..., **cfg.model_from_pretrained_kwargs)\n",
      "  warnings.warn(\n"
     ]
    }
   ],
   "source": [
    "# MPS support maybe?\n",
    "device = \"cuda\" if torch.cuda.is_available() else \"cpu\"\n",
    "\n",
    "release = \"gpt2-small-res-jb\"\n",
    "sae_id = \"blocks.7.hook_resid_pre\"\n",
    "\n",
    "sae, cfg_dict, sparsity = SAEAdapter.from_pretrained(release, sae_id, device=device)"
   ]
  },
  {
   "cell_type": "markdown",
   "id": "b2bf4cac",
   "metadata": {},
   "source": [
    "We should be mindful of the loading warning. For now, I will ignore it"
   ]
  },
  {
   "cell_type": "code",
   "execution_count": 3,
   "id": "829279f3",
   "metadata": {},
   "outputs": [
    {
     "name": "stdout",
     "output_type": "stream",
     "text": [
      "SAEAdapter(\n",
      "  (activation_fn): ReLU()\n",
      "  (hook_sae_input): HookPoint()\n",
      "  (hook_sae_acts_pre): HookPoint()\n",
      "  (hook_sae_acts_post): HookPoint()\n",
      "  (hook_sae_output): HookPoint()\n",
      "  (hook_sae_recons): HookPoint()\n",
      "  (hook_sae_error): HookPoint()\n",
      "  (adapter): Linear(in_features=768, out_features=24576, bias=True)\n",
      "  (hook_sae_adapter): HookPoint()\n",
      ")\n"
     ]
    }
   ],
   "source": [
    "print(sae)"
   ]
  },
  {
   "cell_type": "markdown",
   "id": "9ed31268",
   "metadata": {},
   "source": [
    "Hookpoints are used for caching activations in the model. These can be accessed through run_with_cache which stores the activations in a dictionary using the hookpoint names as keys."
   ]
  },
  {
   "cell_type": "code",
   "execution_count": 4,
   "id": "d111efa6",
   "metadata": {},
   "outputs": [
    {
     "name": "stdout",
     "output_type": "stream",
     "text": [
      "architecture: standard\n",
      "d_in: 768\n",
      "d_sae: 24576\n",
      "activation_fn_str: relu\n",
      "apply_b_dec_to_input: True\n",
      "finetuning_scaling_factor: False\n",
      "context_size: 128\n",
      "model_name: gpt2-small\n",
      "hook_name: blocks.7.hook_resid_pre\n",
      "hook_layer: 7\n",
      "hook_head_index: None\n",
      "prepend_bos: True\n",
      "dataset_path: Skylion007/openwebtext\n",
      "dataset_trust_remote_code: True\n",
      "normalize_activations: none\n",
      "dtype: torch.float32\n",
      "device: cuda\n",
      "sae_lens_training_version: None\n",
      "activation_fn_kwargs: {}\n",
      "neuronpedia_id: gpt2-small/7-res-jb\n",
      "model_from_pretrained_kwargs: {'center_writing_weights': True}\n",
      "seqpos_slice: (None,)\n"
     ]
    }
   ],
   "source": [
    "for k, v in sae.cfg.__dict__.items():\n",
    "    print(f\"{k}: {v}\")"
   ]
  },
  {
   "cell_type": "markdown",
   "id": "28fad37f",
   "metadata": {},
   "source": [
    "There are some important variables to note:\n",
    "\n",
    "- D_in = Width of the residual stream (e.g. 768 for GPT2 small)\n",
    "- D_sae = Number of features in the SAE (e.g. 24576 for GPT2 small)\n",
    "- hook_name = Name of the hookpoint in transformer_lens on which the SAE was trained on.\n",
    "\n",
    "The neuronpedia_id might also be worth keeping in mind if we want to get labels for the features"
   ]
  },
  {
   "cell_type": "code",
   "execution_count": 5,
   "id": "84a635f8",
   "metadata": {},
   "outputs": [
    {
     "name": "stdout",
     "output_type": "stream",
     "text": [
      "Loaded pretrained model gpt2-small into HookedTransformer\n"
     ]
    }
   ],
   "source": [
    "from transformer_lens import HookedTransformer\n",
    "from datasets import load_dataset\n",
    "\n",
    "model = HookedTransformer.from_pretrained(\"gpt2-small\", device=device)\n",
    "\n",
    "# Small subset of the Pile\n",
    "dataset = load_dataset(\n",
    "    path=\"NeelNanda/pile-10k\",\n",
    "    split=\"train\",\n",
    "    streaming=False,\n",
    ")"
   ]
  },
  {
   "cell_type": "code",
   "execution_count": 6,
   "id": "c074ca28",
   "metadata": {},
   "outputs": [],
   "source": [
    "from transformer_lens.utils import tokenize_and_concatenate\n",
    "\n",
    "# This function turns all dataset examples into tokens, combines then and then splits them into chunks based on the max length\n",
    "# It's useful in a pre-training / unsupervised context, where we have a continuous stream of unlabelled text data \n",
    "# The huggingface tokenizer is unaware of the concatenation step which takes immediately after and thus raises a harmless warning\n",
    "token_dataset = tokenize_and_concatenate(\n",
    "    dataset=dataset,\n",
    "    tokenizer=model.tokenizer,\n",
    "    streaming=False,\n",
    "    max_length=sae.cfg.context_size,\n",
    "    add_bos_token=sae.cfg.prepend_bos,\n",
    ")"
   ]
  },
  {
   "cell_type": "code",
   "execution_count": 7,
   "id": "54fe6fa8",
   "metadata": {},
   "outputs": [
    {
     "name": "stdout",
     "output_type": "stream",
     "text": [
      "torch.Size([32, 128])\n",
      "average l0 (base SAE) 61.4202766418457\n"
     ]
    }
   ],
   "source": [
    "batch_size = 32\n",
    "\n",
    "with torch.no_grad(): # During training, we need gradients\n",
    "    \n",
    "    # activation store can give us tokens.\n",
    "    batch_tokens = token_dataset[:batch_size][\"tokens\"]\n",
    "    \n",
    "    print(batch_tokens.shape)  # Should be (32, context_size)\n",
    "    \n",
    "    _, cache = model.run_with_cache(batch_tokens, prepend_bos=True)\n",
    "\n",
    "    # Use the SAE\n",
    "    feature_acts = sae.encode(cache[sae.cfg.hook_name])\n",
    "    sae_out = sae.decode(feature_acts)\n",
    "\n",
    "    # save some room\n",
    "    del cache\n",
    "\n",
    "    # ignore the bos token, get the number of features that activated in each token, averaged accross batch and position\n",
    "    l0 = (feature_acts[:, 1:] > 0).float().sum(-1).detach()\n",
    "    print(\"average l0 (base SAE)\", l0.mean().item())"
   ]
  }
 ],
 "metadata": {
  "kernelspec": {
   "display_name": "feature-steering-rl",
   "language": "python",
   "name": "python3"
  },
  "language_info": {
   "codemirror_mode": {
    "name": "ipython",
    "version": 3
   },
   "file_extension": ".py",
   "mimetype": "text/x-python",
   "name": "python",
   "nbconvert_exporter": "python",
   "pygments_lexer": "ipython3",
   "version": "3.11.12"
  }
 },
 "nbformat": 4,
 "nbformat_minor": 5
}
