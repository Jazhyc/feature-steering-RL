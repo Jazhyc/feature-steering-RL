{
 "cells": [
  {
   "cell_type": "markdown",
   "id": "aa261ca0",
   "metadata": {},
   "source": [
    "# Top 10 Features from Alignment Steering Analysis\n",
    "\n",
    "This notebook displays the top 10 features by total usage from the alignment steering analysis, along with their detailed descriptions from the NeuronpediaCache."
   ]
  },
  {
   "cell_type": "code",
   "execution_count": 9,
   "id": "16e5492a",
   "metadata": {},
   "outputs": [],
   "source": [
    "# Import required libraries\n",
    "import json\n",
    "import pandas as pd\n",
    "import os\n",
    "from pathlib import Path"
   ]
  },
  {
   "cell_type": "code",
   "execution_count": 10,
   "id": "8046c160",
   "metadata": {},
   "outputs": [
    {
     "name": "stdout",
     "output_type": "stream",
     "text": [
      "Alignment data path: /home/jazhyc/projects/FSRL/feature-steering-RL/outputs/feature_classification/comprehensive_analysis/alignment_steering_analysis_prompt_only_ignore_mask_feature_usage.json\n",
      "Alignment data exists: True\n",
      "Descriptions path: /home/jazhyc/projects/FSRL/feature-steering-RL/models/NeuronpediaCache/gemma-2-2b/12-gemmascope-res-65k__l0-21.json\n",
      "Descriptions exists: True\n"
     ]
    }
   ],
   "source": [
    "# Set up file paths\n",
    "base_path = Path('/home/jazhyc/projects/FSRL/feature-steering-RL')\n",
    "alignment_data_path = base_path / 'outputs' / 'feature_classification' / 'comprehensive_analysis' / 'alignment_steering_analysis_prompt_only_ignore_mask_feature_usage.json'\n",
    "descriptions_path = base_path / 'models' / 'NeuronpediaCache' / 'gemma-2-2b' / '12-gemmascope-res-65k__l0-21.json'\n",
    "\n",
    "print(f\"Alignment data path: {alignment_data_path}\")\n",
    "print(f\"Alignment data exists: {alignment_data_path.exists()}\")\n",
    "print(f\"Descriptions path: {descriptions_path}\")\n",
    "print(f\"Descriptions exists: {descriptions_path.exists()}\")"
   ]
  },
  {
   "cell_type": "code",
   "execution_count": 11,
   "id": "59cee2c7",
   "metadata": {},
   "outputs": [
    {
     "name": "stdout",
     "output_type": "stream",
     "text": [
      "Loaded 2 features from alignment data\n",
      "Sample feature keys: ['summary', 'feature_usage_details']\n"
     ]
    }
   ],
   "source": [
    "# Load alignment steering feature usage data\n",
    "with open(alignment_data_path, 'r') as f:\n",
    "    alignment_data = json.load(f)\n",
    "\n",
    "print(f\"Loaded {len(alignment_data)} features from alignment data\")\n",
    "print(f\"Sample feature keys: {list(alignment_data.keys())[:5]}\")"
   ]
  },
  {
   "cell_type": "code",
   "execution_count": 12,
   "id": "b8d2509d",
   "metadata": {},
   "outputs": [
    {
     "name": "stdout",
     "output_type": "stream",
     "text": [
      "Loaded descriptions for 65344 features\n",
      "Sample description indices: ['53844', '53847', '53890', '53924', '53896']\n"
     ]
    }
   ],
   "source": [
    "# Load feature descriptions\n",
    "with open(descriptions_path, 'r') as f:\n",
    "    descriptions_list = json.load(f)\n",
    "\n",
    "# Convert list to dictionary for easy lookup by index\n",
    "descriptions_dict = {item['index']: item['description'] for item in descriptions_list}\n",
    "\n",
    "print(f\"Loaded descriptions for {len(descriptions_dict)} features\")\n",
    "print(f\"Sample description indices: {list(descriptions_dict.keys())[:5]}\")"
   ]
  },
  {
   "cell_type": "code",
   "execution_count": 13,
   "id": "dda9633f",
   "metadata": {},
   "outputs": [
    {
     "name": "stdout",
     "output_type": "stream",
     "text": [
      "Top 10 Features by Total Usage:\n",
      "1. Feature 56750: 203,984 total usage (4.4208%) - Classification: not-related\n",
      "2. Feature 49896: 198,219 total usage (4.2958%) - Classification: not-related\n",
      "3. Feature 41564: 196,986 total usage (4.2691%) - Classification: related\n",
      "4. Feature 41362: 195,708 total usage (4.2414%) - Classification: not-related\n",
      "5. Feature 44542: 194,954 total usage (4.2251%) - Classification: not-related\n",
      "6. Feature 30441: 194,662 total usage (4.2187%) - Classification: not-related\n",
      "7. Feature 40634: 194,476 total usage (4.2147%) - Classification: related\n",
      "8. Feature 756: 194,231 total usage (4.2094%) - Classification: not-related\n",
      "9. Feature 62960: 194,122 total usage (4.2070%) - Classification: not-related\n",
      "10. Feature 38140: 193,913 total usage (4.2025%) - Classification: not-related\n"
     ]
    }
   ],
   "source": [
    "# Calculate total usage for each feature and get top 10\n",
    "feature_usage_list = alignment_data['feature_usage_details']\n",
    "\n",
    "# Sort by usage_count and get top 10\n",
    "top_10_features = sorted(feature_usage_list, key=lambda x: x['usage_count'], reverse=True)[:10]\n",
    "\n",
    "print(\"Top 10 Features by Total Usage:\")\n",
    "for i, feature in enumerate(top_10_features, 1):\n",
    "    print(f\"{i}. Feature {feature['feature_index']}: {feature['usage_count']:,} total usage ({feature['usage_percentage']:.4%}) - Classification: {feature['classification']}\")"
   ]
  },
  {
   "cell_type": "code",
   "execution_count": 14,
   "id": "e7180952",
   "metadata": {},
   "outputs": [
    {
     "name": "stdout",
     "output_type": "stream",
     "text": [
      "\n",
      "================================================================================\n",
      "TOP 10 FEATURES WITH DESCRIPTIONS\n",
      "================================================================================\n",
      "\n",
      "🏆 RANK 1: Feature 56750\n",
      "   Description:  geographical and administrative classifications\n",
      "   Usage Count: 203,984\n",
      "   Usage Percentage: 4.4208%\n",
      "   Classification: not-related\n",
      "--------------------------------------------------------------------------------\n",
      "\n",
      "🏆 RANK 2: Feature 49896\n",
      "   Description:  comment and license indicators in source code\n",
      "   Usage Count: 198,219\n",
      "   Usage Percentage: 4.2958%\n",
      "   Classification: not-related\n",
      "--------------------------------------------------------------------------------\n",
      "\n",
      "🏆 RANK 3: Feature 41564\n",
      "   Description: conjunctions and logical operators in sentences\n",
      "   Usage Count: 196,986\n",
      "   Usage Percentage: 4.2691%\n",
      "   Classification: related\n",
      "--------------------------------------------------------------------------------\n",
      "\n",
      "🏆 RANK 4: Feature 41362\n",
      "   Description: technical language related to software development and project management\n",
      "   Usage Count: 195,708\n",
      "   Usage Percentage: 4.2414%\n",
      "   Classification: not-related\n",
      "--------------------------------------------------------------------------------\n",
      "\n",
      "🏆 RANK 5: Feature 44542\n",
      "   Description: programming-related terms and structures, particularly those associated with API responses and session management\n",
      "   Usage Count: 194,954\n",
      "   Usage Percentage: 4.2251%\n",
      "   Classification: not-related\n",
      "--------------------------------------------------------------------------------\n",
      "\n",
      "🏆 RANK 6: Feature 30441\n",
      "   Description:  keywords related to programming topics and resources\n",
      "   Usage Count: 194,662\n",
      "   Usage Percentage: 4.2187%\n",
      "   Classification: not-related\n",
      "--------------------------------------------------------------------------------\n",
      "\n",
      "🏆 RANK 7: Feature 40634\n",
      "   Description: sentences discussing the outcomes of political events or controversies\n",
      "   Usage Count: 194,476\n",
      "   Usage Percentage: 4.2147%\n",
      "   Classification: related\n",
      "--------------------------------------------------------------------------------\n",
      "\n",
      "🏆 RANK 8: Feature 756\n",
      "   Description: references to programming components or annotations in code\n",
      "   Usage Count: 194,231\n",
      "   Usage Percentage: 4.2094%\n",
      "   Classification: not-related\n",
      "--------------------------------------------------------------------------------\n",
      "\n",
      "🏆 RANK 9: Feature 62960\n",
      "   Description:  mathematical symbols and notations\n",
      "   Usage Count: 194,122\n",
      "   Usage Percentage: 4.2070%\n",
      "   Classification: not-related\n",
      "--------------------------------------------------------------------------------\n",
      "\n",
      "🏆 RANK 10: Feature 38140\n",
      "   Description: the presence of beginning tokens or section markers in a document\n",
      "   Usage Count: 193,913\n",
      "   Usage Percentage: 4.2025%\n",
      "   Classification: not-related\n",
      "--------------------------------------------------------------------------------\n",
      "\n"
     ]
    }
   ],
   "source": [
    "# Create a detailed display of top 10 features with descriptions\n",
    "print(\"\\n\" + \"=\"*80)\n",
    "print(\"TOP 10 FEATURES WITH DESCRIPTIONS\")\n",
    "print(\"=\"*80 + \"\\n\")\n",
    "\n",
    "for i, feature in enumerate(top_10_features, 1):\n",
    "    feature_idx = feature['feature_index']\n",
    "    feature_idx_str = str(feature_idx)\n",
    "    usage_count = feature['usage_count']\n",
    "    usage_percentage = feature['usage_percentage']\n",
    "    classification = feature['classification']\n",
    "    \n",
    "    # Get description if available\n",
    "    description = descriptions_dict.get(feature_idx_str, \"No description available\")\n",
    "    \n",
    "    print(f\"🏆 RANK {i}: Feature {feature_idx}\")\n",
    "    print(f\"   Description: {description}\")\n",
    "    print(f\"   Usage Count: {usage_count:,}\")\n",
    "    print(f\"   Usage Percentage: {usage_percentage:.4%}\")\n",
    "    print(f\"   Classification: {classification}\")\n",
    "    print(\"-\" * 80 + \"\\n\")"
   ]
  },
  {
   "cell_type": "code",
   "execution_count": 15,
   "id": "da4abcc6",
   "metadata": {},
   "outputs": [
    {
     "name": "stdout",
     "output_type": "stream",
     "text": [
      "📊 SUMMARY TABLE: Top 10 Features\n",
      "========================================================================================================================\n",
      " Rank  Feature Index  Usage Count Usage % Classification                                        Description\n",
      "    1          56750       203984   4.42%    not-related    geographical and administrative classifications\n",
      "    2          49896       198219   4.30%    not-related      comment and license indicators in source code\n",
      "    3          41564       196986   4.27%        related    conjunctions and logical operators in sentences\n",
      "    4          41362       195708   4.24%    not-related technical language related to software developm...\n",
      "    5          44542       194954   4.23%    not-related programming-related terms and structures, parti...\n",
      "    6          30441       194662   4.22%    not-related  keywords related to programming topics and res...\n",
      "    7          40634       194476   4.21%        related sentences discussing the outcomes of political ...\n",
      "    8            756       194231   4.21%    not-related references to programming components or annotat...\n",
      "    9          62960       194122   4.21%    not-related                 mathematical symbols and notations\n",
      "   10          38140       193913   4.20%    not-related the presence of beginning tokens or section mar...\n"
     ]
    }
   ],
   "source": [
    "# Create a summary table\n",
    "summary_data = []\n",
    "\n",
    "for i, feature in enumerate(top_10_features, 1):\n",
    "    feature_idx_str = str(feature['feature_index'])\n",
    "    description = descriptions_dict.get(feature_idx_str, \"No description available\")\n",
    "    \n",
    "    summary_data.append({\n",
    "        'Rank': i,\n",
    "        'Feature Index': feature['feature_index'],\n",
    "        'Usage Count': feature['usage_count'],\n",
    "        'Usage %': f\"{feature['usage_percentage']:.2%}\",\n",
    "        'Classification': feature['classification'],\n",
    "        'Description': description[:100] + '...' if len(description) > 100 else description\n",
    "    })\n",
    "\n",
    "# Create DataFrame for better display\n",
    "summary_df = pd.DataFrame(summary_data)\n",
    "\n",
    "print(\"📊 SUMMARY TABLE: Top 10 Features\")\n",
    "print(\"=\" * 120)\n",
    "print(summary_df.to_string(index=False, max_colwidth=50))"
   ]
  },
  {
   "cell_type": "code",
   "execution_count": 16,
   "id": "b355dcc5",
   "metadata": {},
   "outputs": [
    {
     "name": "stdout",
     "output_type": "stream",
     "text": [
      "\n",
      "✅ Results saved to: /home/jazhyc/projects/FSRL/feature-steering-RL/outputs/top_10_alignment_features.csv\n",
      "✅ Full descriptions saved to: /home/jazhyc/projects/FSRL/feature-steering-RL/outputs/top_10_alignment_features_full_descriptions.csv\n"
     ]
    }
   ],
   "source": [
    "# Save the results to a CSV file for reference\n",
    "output_path = base_path / 'outputs' / 'top_10_alignment_features.csv'\n",
    "summary_df.to_csv(output_path, index=False)\n",
    "print(f\"\\n✅ Results saved to: {output_path}\")\n",
    "\n",
    "# Also save full descriptions (not truncated)\n",
    "full_summary_data = []\n",
    "for i, feature in enumerate(top_10_features, 1):\n",
    "    feature_idx_str = str(feature['feature_index'])\n",
    "    description = descriptions_dict.get(feature_idx_str, \"No description available\")\n",
    "    \n",
    "    full_summary_data.append({\n",
    "        'Rank': i,\n",
    "        'Feature Index': feature['feature_index'],\n",
    "        'Usage Count': feature['usage_count'],\n",
    "        'Usage Percentage': feature['usage_percentage'],\n",
    "        'Classification': feature['classification'],\n",
    "        'Full Description': description\n",
    "    })\n",
    "\n",
    "full_output_path = base_path / 'outputs' / 'top_10_alignment_features_full_descriptions.csv'\n",
    "pd.DataFrame(full_summary_data).to_csv(full_output_path, index=False)\n",
    "print(f\"✅ Full descriptions saved to: {full_output_path}\")"
   ]
  }
 ],
 "metadata": {
  "kernelspec": {
   "display_name": "fsrl",
   "language": "python",
   "name": "python3"
  },
  "language_info": {
   "codemirror_mode": {
    "name": "ipython",
    "version": 3
   },
   "file_extension": ".py",
   "mimetype": "text/x-python",
   "name": "python",
   "nbconvert_exporter": "python",
   "pygments_lexer": "ipython3",
   "version": "3.10.12"
  }
 },
 "nbformat": 4,
 "nbformat_minor": 5
}
