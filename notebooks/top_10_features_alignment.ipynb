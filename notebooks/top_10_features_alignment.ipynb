{
 "cells": [
  {
   "cell_type": "markdown",
   "id": "aa261ca0",
   "metadata": {},
   "source": [
    "# Top 10 Features from Alignment Steering Analysis\n",
    "\n",
    "This notebook displays the top 10 features by total usage from the alignment steering analysis, along with their detailed descriptions from the NeuronpediaCache."
   ]
  },
  {
   "cell_type": "code",
   "execution_count": 1,
   "id": "16e5492a",
   "metadata": {},
   "outputs": [],
   "source": [
    "# Import required libraries\n",
    "import json\n",
    "import pandas as pd\n",
    "import os\n",
    "from pathlib import Path"
   ]
  },
  {
   "cell_type": "code",
   "execution_count": 2,
   "id": "8046c160",
   "metadata": {},
   "outputs": [
    {
     "name": "stdout",
     "output_type": "stream",
     "text": [
      "Alignment data path: /home/jazhyc/projects/FSRL/feature-steering-RL/outputs/feature_classification/comprehensive_analysis/alignment_steering_analysis_prompt_only_ignore_mask_adapter_feature_usage.json\n",
      "Alignment data exists: True\n",
      "Descriptions path: /home/jazhyc/projects/FSRL/feature-steering-RL/models/NeuronpediaCache/gemma-2-2b/12-gemmascope-res-65k__l0-21.json\n",
      "Descriptions exists: True\n"
     ]
    }
   ],
   "source": [
    "# Set up file paths\n",
    "base_path = Path('/home/jazhyc/projects/FSRL/feature-steering-RL')\n",
    "alignment_data_path = base_path / 'outputs' / 'feature_classification' / 'comprehensive_analysis' / 'alignment_steering_analysis_prompt_only_ignore_mask_adapter_feature_usage.json'\n",
    "descriptions_path = base_path / 'models' / 'NeuronpediaCache' / 'gemma-2-2b' / '12-gemmascope-res-65k__l0-21.json'\n",
    "\n",
    "print(f\"Alignment data path: {alignment_data_path}\")\n",
    "print(f\"Alignment data exists: {alignment_data_path.exists()}\")\n",
    "print(f\"Descriptions path: {descriptions_path}\")\n",
    "print(f\"Descriptions exists: {descriptions_path.exists()}\")"
   ]
  },
  {
   "cell_type": "code",
   "execution_count": 3,
   "id": "59cee2c7",
   "metadata": {},
   "outputs": [
    {
     "name": "stdout",
     "output_type": "stream",
     "text": [
      "Loaded 2 features from alignment data\n",
      "Sample feature keys: ['summary', 'feature_usage_details']\n"
     ]
    }
   ],
   "source": [
    "# Load alignment steering feature usage data\n",
    "with open(alignment_data_path, 'r') as f:\n",
    "    alignment_data = json.load(f)\n",
    "\n",
    "print(f\"Loaded {len(alignment_data)} features from alignment data\")\n",
    "print(f\"Sample feature keys: {list(alignment_data.keys())[:5]}\")"
   ]
  },
  {
   "cell_type": "code",
   "execution_count": 4,
   "id": "b8d2509d",
   "metadata": {},
   "outputs": [
    {
     "name": "stdout",
     "output_type": "stream",
     "text": [
      "Loaded descriptions for 65344 features\n",
      "Sample description indices: ['53844', '53847', '53890', '53924', '53896']\n"
     ]
    }
   ],
   "source": [
    "# Load feature descriptions\n",
    "with open(descriptions_path, 'r') as f:\n",
    "    descriptions_list = json.load(f)\n",
    "\n",
    "# Convert list to dictionary for easy lookup by index\n",
    "descriptions_dict = {item['index']: item['description'] for item in descriptions_list}\n",
    "\n",
    "print(f\"Loaded descriptions for {len(descriptions_dict)} features\")\n",
    "print(f\"Sample description indices: {list(descriptions_dict.keys())[:5]}\")"
   ]
  },
  {
   "cell_type": "code",
   "execution_count": 5,
   "id": "dda9633f",
   "metadata": {},
   "outputs": [
    {
     "name": "stdout",
     "output_type": "stream",
     "text": [
      "Top 10 Features by Total Usage:\n",
      "1. Feature 37761: 438,692 total usage (11.6656%) - Classification: related\n",
      "2. Feature 64067: 433,371 total usage (11.5241%) - Classification: not-related\n",
      "3. Feature 60867: 421,840 total usage (11.2174%) - Classification: not-related\n",
      "4. Feature 62715: 415,408 total usage (11.0464%) - Classification: not-related\n",
      "5. Feature 65241: 408,836 total usage (10.8716%) - Classification: not-related\n",
      "6. Feature 32656: 406,304 total usage (10.8043%) - Classification: related\n",
      "7. Feature 48790: 401,773 total usage (10.6838%) - Classification: not-related\n",
      "8. Feature 14472: 398,370 total usage (10.5933%) - Classification: not-related\n",
      "9. Feature 64257: 396,790 total usage (10.5513%) - Classification: not-related\n",
      "10. Feature 64365: 394,366 total usage (10.4869%) - Classification: not-related\n"
     ]
    }
   ],
   "source": [
    "# Calculate total usage for each feature and get top 10\n",
    "feature_usage_list = alignment_data['feature_usage_details']\n",
    "\n",
    "# Sort by usage_count and get top 10\n",
    "top_10_features = sorted(feature_usage_list, key=lambda x: x['usage_count'], reverse=True)[:10]\n",
    "\n",
    "print(\"Top 10 Features by Total Usage:\")\n",
    "for i, feature in enumerate(top_10_features, 1):\n",
    "    print(f\"{i}. Feature {feature['feature_index']}: {feature['usage_count']:,} total usage ({feature['usage_percentage']:.4%}) - Classification: {feature['classification']}\")"
   ]
  },
  {
   "cell_type": "code",
   "execution_count": 6,
   "id": "e7180952",
   "metadata": {},
   "outputs": [
    {
     "name": "stdout",
     "output_type": "stream",
     "text": [
      "\n",
      "================================================================================\n",
      "TOP 10 FEATURES WITH DESCRIPTIONS\n",
      "================================================================================\n",
      "\n",
      "🏆 RANK 1: Feature 37761\n",
      "   Description:  instances of failure and error indications in the text\n",
      "   Usage Count: 438,692\n",
      "   Usage Percentage: 11.6656%\n",
      "   Classification: related\n",
      "--------------------------------------------------------------------------------\n",
      "\n",
      "🏆 RANK 2: Feature 64067\n",
      "   Description:  Japanese words or phrases\n",
      "   Usage Count: 433,371\n",
      "   Usage Percentage: 11.5241%\n",
      "   Classification: not-related\n",
      "--------------------------------------------------------------------------------\n",
      "\n",
      "🏆 RANK 3: Feature 60867\n",
      "   Description: technical methodologies and analyses related to data processing and modeling\n",
      "   Usage Count: 421,840\n",
      "   Usage Percentage: 11.2174%\n",
      "   Classification: not-related\n",
      "--------------------------------------------------------------------------------\n",
      "\n",
      "🏆 RANK 4: Feature 62715\n",
      "   Description: concepts related to healthcare and employment\n",
      "   Usage Count: 415,408\n",
      "   Usage Percentage: 11.0464%\n",
      "   Classification: not-related\n",
      "--------------------------------------------------------------------------------\n",
      "\n",
      "🏆 RANK 5: Feature 65241\n",
      "   Description:  references to specific chemical compounds or substances, especially those containing \"thi\" or related nomenclature\n",
      "   Usage Count: 408,836\n",
      "   Usage Percentage: 10.8716%\n",
      "   Classification: not-related\n",
      "--------------------------------------------------------------------------------\n",
      "\n",
      "🏆 RANK 6: Feature 32656\n",
      "   Description:  visual content identifiers such as images and logos\n",
      "   Usage Count: 406,304\n",
      "   Usage Percentage: 10.8043%\n",
      "   Classification: related\n",
      "--------------------------------------------------------------------------------\n",
      "\n",
      "🏆 RANK 7: Feature 48790\n",
      "   Description:  key references or identifiers in a structured format, such as database entries or code tags\n",
      "   Usage Count: 401,773\n",
      "   Usage Percentage: 10.6838%\n",
      "   Classification: not-related\n",
      "--------------------------------------------------------------------------------\n",
      "\n",
      "🏆 RANK 8: Feature 14472\n",
      "   Description:  technical terms and code-related elements\n",
      "   Usage Count: 398,370\n",
      "   Usage Percentage: 10.5933%\n",
      "   Classification: not-related\n",
      "--------------------------------------------------------------------------------\n",
      "\n",
      "🏆 RANK 9: Feature 64257\n",
      "   Description:  programming constructs or syntax elements, specifically associated with route mapping or dynamic URL handling\n",
      "   Usage Count: 396,790\n",
      "   Usage Percentage: 10.5513%\n",
      "   Classification: not-related\n",
      "--------------------------------------------------------------------------------\n",
      "\n",
      "🏆 RANK 10: Feature 64365\n",
      "   Description: specific numerical expressions or representations in text\n",
      "   Usage Count: 394,366\n",
      "   Usage Percentage: 10.4869%\n",
      "   Classification: not-related\n",
      "--------------------------------------------------------------------------------\n",
      "\n"
     ]
    }
   ],
   "source": [
    "# Create a detailed display of top 10 features with descriptions\n",
    "print(\"\\n\" + \"=\"*80)\n",
    "print(\"TOP 10 FEATURES WITH DESCRIPTIONS\")\n",
    "print(\"=\"*80 + \"\\n\")\n",
    "\n",
    "for i, feature in enumerate(top_10_features, 1):\n",
    "    feature_idx = feature['feature_index']\n",
    "    feature_idx_str = str(feature_idx)\n",
    "    usage_count = feature['usage_count']\n",
    "    usage_percentage = feature['usage_percentage']\n",
    "    classification = feature['classification']\n",
    "    \n",
    "    # Get description if available\n",
    "    description = descriptions_dict.get(feature_idx_str, \"No description available\")\n",
    "    \n",
    "    print(f\"🏆 RANK {i}: Feature {feature_idx}\")\n",
    "    print(f\"   Description: {description}\")\n",
    "    print(f\"   Usage Count: {usage_count:,}\")\n",
    "    print(f\"   Usage Percentage: {usage_percentage:.4%}\")\n",
    "    print(f\"   Classification: {classification}\")\n",
    "    print(\"-\" * 80 + \"\\n\")"
   ]
  },
  {
   "cell_type": "code",
   "execution_count": 7,
   "id": "da4abcc6",
   "metadata": {},
   "outputs": [
    {
     "name": "stdout",
     "output_type": "stream",
     "text": [
      "📊 SUMMARY TABLE: Top 10 Features\n",
      "========================================================================================================================\n",
      " Rank  Feature Index  Usage Count Usage % Classification                                        Description\n",
      "    1          37761       438692  11.67%        related  instances of failure and error indications in ...\n",
      "    2          64067       433371  11.52%    not-related                          Japanese words or phrases\n",
      "    3          60867       421840  11.22%    not-related technical methodologies and analyses related to...\n",
      "    4          62715       415408  11.05%    not-related      concepts related to healthcare and employment\n",
      "    5          65241       408836  10.87%    not-related  references to specific chemical compounds or s...\n",
      "    6          32656       406304  10.80%        related  visual content identifiers such as images and ...\n",
      "    7          48790       401773  10.68%    not-related  key references or identifiers in a structured ...\n",
      "    8          14472       398370  10.59%    not-related          technical terms and code-related elements\n",
      "    9          64257       396790  10.55%    not-related  programming constructs or syntax elements, spe...\n",
      "   10          64365       394366  10.49%    not-related specific numerical expressions or representatio...\n"
     ]
    }
   ],
   "source": [
    "# Create a summary table\n",
    "summary_data = []\n",
    "\n",
    "for i, feature in enumerate(top_10_features, 1):\n",
    "    feature_idx_str = str(feature['feature_index'])\n",
    "    description = descriptions_dict.get(feature_idx_str, \"No description available\")\n",
    "    \n",
    "    summary_data.append({\n",
    "        'Rank': i,\n",
    "        'Feature Index': feature['feature_index'],\n",
    "        'Usage Count': feature['usage_count'],\n",
    "        'Usage %': f\"{feature['usage_percentage']:.2%}\",\n",
    "        'Classification': feature['classification'],\n",
    "        'Description': description[:100] + '...' if len(description) > 100 else description\n",
    "    })\n",
    "\n",
    "# Create DataFrame for better display\n",
    "summary_df = pd.DataFrame(summary_data)\n",
    "\n",
    "print(\"📊 SUMMARY TABLE: Top 10 Features\")\n",
    "print(\"=\" * 120)\n",
    "print(summary_df.to_string(index=False, max_colwidth=50))"
   ]
  },
  {
   "cell_type": "code",
   "execution_count": 8,
   "id": "b355dcc5",
   "metadata": {},
   "outputs": [
    {
     "name": "stdout",
     "output_type": "stream",
     "text": [
      "\n",
      "✅ Results saved to: /home/jazhyc/projects/FSRL/feature-steering-RL/outputs/top_10_alignment_features.csv\n",
      "✅ Full descriptions saved to: /home/jazhyc/projects/FSRL/feature-steering-RL/outputs/top_10_alignment_features_full_descriptions.csv\n"
     ]
    }
   ],
   "source": [
    "# Save the results to a CSV file for reference\n",
    "output_path = base_path / 'outputs' / 'top_10_alignment_features.csv'\n",
    "summary_df.to_csv(output_path, index=False)\n",
    "print(f\"\\n✅ Results saved to: {output_path}\")\n",
    "\n",
    "# Also save full descriptions (not truncated)\n",
    "full_summary_data = []\n",
    "for i, feature in enumerate(top_10_features, 1):\n",
    "    feature_idx_str = str(feature['feature_index'])\n",
    "    description = descriptions_dict.get(feature_idx_str, \"No description available\")\n",
    "    \n",
    "    full_summary_data.append({\n",
    "        'Rank': i,\n",
    "        'Feature Index': feature['feature_index'],\n",
    "        'Usage Count': feature['usage_count'],\n",
    "        'Usage Percentage': feature['usage_percentage'],\n",
    "        'Classification': feature['classification'],\n",
    "        'Full Description': description\n",
    "    })\n",
    "\n",
    "full_output_path = base_path / 'outputs' / 'top_10_alignment_features_full_descriptions.csv'\n",
    "pd.DataFrame(full_summary_data).to_csv(full_output_path, index=False)\n",
    "print(f\"✅ Full descriptions saved to: {full_output_path}\")"
   ]
  }
 ],
 "metadata": {
  "kernelspec": {
   "display_name": "fsrl",
   "language": "python",
   "name": "python3"
  },
  "language_info": {
   "codemirror_mode": {
    "name": "ipython",
    "version": 3
   },
   "file_extension": ".py",
   "mimetype": "text/x-python",
   "name": "python",
   "nbconvert_exporter": "python",
   "pygments_lexer": "ipython3",
   "version": "3.10.12"
  }
 },
 "nbformat": 4,
 "nbformat_minor": 5
}
