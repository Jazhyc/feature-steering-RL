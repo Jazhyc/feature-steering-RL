{
 "cells": [
  {
   "cell_type": "markdown",
   "id": "727a580d",
   "metadata": {},
   "source": [
    "# Neuronpedia Explanations — Quick Look\n",
    "\n",
    "This notebook loads the cached Neuronpedia explanations JSON and inspects its structure (keys, lengths) and a tabular view."
   ]
  },
  {
   "cell_type": "code",
   "execution_count": 2,
   "id": "f3747fe3",
   "metadata": {},
   "outputs": [
    {
     "name": "stdout",
     "output_type": "stream",
     "text": [
      "Using JSON: ../../models/NeuronpediaCache/gemma-2-2b/12-gemmascope-res-65k__l0-21.json\n"
     ]
    }
   ],
   "source": [
    "import os, json, glob, time\n",
    "import pandas as pd\n",
    "import matplotlib.pyplot as plt\n",
    "import seaborn as sns\n",
    "\n",
    "# Style similar to other notebooks\n",
    "plt.style.use('default')\n",
    "sns.set_palette('husl')\n",
    "plt.rcParams.update({\n",
    "    'figure.figsize': (12, 6),\n",
    "    'font.size': 12,\n",
    "    'font.family': 'sans-serif',\n",
    "    'axes.spines.top': False,\n",
    "    'axes.spines.right': False,\n",
    "    'axes.grid': True,\n",
    "    'grid.alpha': 0.5,\n",
    "    'grid.linewidth': 1.0,\n",
    "    'legend.frameon': False,\n",
    "    'savefig.dpi': 300,\n",
    "    'savefig.bbox': 'tight',\n",
    "})\n",
    "\n",
    "# Default cache path from the fetch script run\n",
    "DEFAULT_JSON = '../../models/NeuronpediaCache/gemma-2-2b/12-gemmascope-res-65k__l0-21.json'\n",
    "json_path = DEFAULT_JSON\n",
    "\n",
    "if not os.path.exists(json_path):\n",
    "    # Fallback: pick most-recent JSON under the cache directory\n",
    "    candidates = glob.glob('models/NeuronpediaCache/**/*.json', recursive=True)\n",
    "    if not candidates:\n",
    "        raise FileNotFoundError('No cached explanations found under models/NeuronpediaCache.')\n",
    "    candidates.sort(key=lambda p: os.path.getmtime(p), reverse=True)\n",
    "    json_path = candidates[0]\n",
    "\n",
    "print('Using JSON:', json_path)"
   ]
  },
  {
   "cell_type": "markdown",
   "id": "df0f8f64",
   "metadata": {},
   "source": [
    "## Load JSON and Inspect Structure"
   ]
  },
  {
   "cell_type": "code",
   "execution_count": 3,
   "id": "93becd54",
   "metadata": {},
   "outputs": [
    {
     "name": "stdout",
     "output_type": "stream",
     "text": [
      "Type: <class 'list'>\n",
      "Num explanations: 65344\n",
      "First item type: <class 'dict'>\n",
      "First item keys: ['description', 'explanationModelName', 'index', 'layer', 'modelId', 'typeName']\n",
      "Union of keys (sample): ['description', 'explanationModelName', 'index', 'layer', 'modelId', 'typeName'] \n",
      "Intersection of keys (sample): ['description', 'explanationModelName', 'index', 'layer', 'modelId', 'typeName']\n"
     ]
    }
   ],
   "source": [
    "with open(json_path, 'r', encoding='utf-8') as f:\n",
    "    data = json.load(f)\n",
    "\n",
    "print('Type:', type(data))\n",
    "if isinstance(data, dict) and 'explanations' in data:\n",
    "    data = data['explanations']\n",
    "    print('Unwrapped explanations list from dict.')\n",
    "\n",
    "if not isinstance(data, list):\n",
    "    raise TypeError(f'Unexpected top-level JSON type: {type(data)} (expected list)')\n",
    "\n",
    "print('Num explanations:', len(data))\n",
    "if data:\n",
    "    first = data[0]\n",
    "    print('First item type:', type(first))\n",
    "    if isinstance(first, dict):\n",
    "        print('First item keys:', sorted(list(first.keys())))\n",
    "\n",
    "# Inspect key coverage across a sample\n",
    "sample_n = min(1000, len(data))\n",
    "keys_union = set()\n",
    "keys_intersection = None\n",
    "for i in range(sample_n):\n",
    "    it = data[i]\n",
    "    if isinstance(it, dict):\n",
    "        k = set(it.keys())\n",
    "        keys_union |= k\n",
    "        keys_intersection = k if keys_intersection is None else (keys_intersection & k)\n",
    "\n",
    "print('Union of keys (sample):', sorted(list(keys_union))[:50], ('...' if len(keys_union) > 50 else ''))\n",
    "print('Intersection of keys (sample):', sorted(list(keys_intersection)) if keys_intersection else [])"
   ]
  },
  {
   "cell_type": "markdown",
   "id": "02822b6e",
   "metadata": {},
   "source": [
    "## Normalize to DataFrame"
   ]
  },
  {
   "cell_type": "code",
   "execution_count": 4,
   "id": "a003996c",
   "metadata": {},
   "outputs": [
    {
     "name": "stdout",
     "output_type": "stream",
     "text": [
      "DataFrame shape: (65344, 6)\n",
      "Columns: ['modelId', 'layer', 'index', 'description', 'explanationModelName', 'typeName'] \n"
     ]
    },
    {
     "data": {
      "text/html": [
       "<div>\n",
       "<style scoped>\n",
       "    .dataframe tbody tr th:only-of-type {\n",
       "        vertical-align: middle;\n",
       "    }\n",
       "\n",
       "    .dataframe tbody tr th {\n",
       "        vertical-align: top;\n",
       "    }\n",
       "\n",
       "    .dataframe thead th {\n",
       "        text-align: right;\n",
       "    }\n",
       "</style>\n",
       "<table border=\"1\" class=\"dataframe\">\n",
       "  <thead>\n",
       "    <tr style=\"text-align: right;\">\n",
       "      <th></th>\n",
       "      <th>modelId</th>\n",
       "      <th>layer</th>\n",
       "      <th>index</th>\n",
       "      <th>description</th>\n",
       "      <th>explanationModelName</th>\n",
       "      <th>typeName</th>\n",
       "    </tr>\n",
       "  </thead>\n",
       "  <tbody>\n",
       "    <tr>\n",
       "      <th>0</th>\n",
       "      <td>gemma-2-2b</td>\n",
       "      <td>12-gemmascope-res-65k</td>\n",
       "      <td>53844</td>\n",
       "      <td>variables and mathematical symbols in technic...</td>\n",
       "      <td>None</td>\n",
       "      <td>oai_token-act-pair</td>\n",
       "    </tr>\n",
       "    <tr>\n",
       "      <th>1</th>\n",
       "      <td>gemma-2-2b</td>\n",
       "      <td>12-gemmascope-res-65k</td>\n",
       "      <td>53847</td>\n",
       "      <td>opening and closing parentheses and backslashes</td>\n",
       "      <td>None</td>\n",
       "      <td>oai_token-act-pair</td>\n",
       "    </tr>\n",
       "    <tr>\n",
       "      <th>2</th>\n",
       "      <td>gemma-2-2b</td>\n",
       "      <td>12-gemmascope-res-65k</td>\n",
       "      <td>53890</td>\n",
       "      <td>data type declarations in code</td>\n",
       "      <td>None</td>\n",
       "      <td>oai_token-act-pair</td>\n",
       "    </tr>\n",
       "  </tbody>\n",
       "</table>\n",
       "</div>"
      ],
      "text/plain": [
       "      modelId                  layer  index  \\\n",
       "0  gemma-2-2b  12-gemmascope-res-65k  53844   \n",
       "1  gemma-2-2b  12-gemmascope-res-65k  53847   \n",
       "2  gemma-2-2b  12-gemmascope-res-65k  53890   \n",
       "\n",
       "                                         description explanationModelName  \\\n",
       "0   variables and mathematical symbols in technic...                 None   \n",
       "1    opening and closing parentheses and backslashes                 None   \n",
       "2                     data type declarations in code                 None   \n",
       "\n",
       "             typeName  \n",
       "0  oai_token-act-pair  \n",
       "1  oai_token-act-pair  \n",
       "2  oai_token-act-pair  "
      ]
     },
     "execution_count": 4,
     "metadata": {},
     "output_type": "execute_result"
    }
   ],
   "source": [
    "# json_normalize handles nested structures if any\n",
    "df = pd.json_normalize(data)\n",
    "print('DataFrame shape:', df.shape)\n",
    "print('Columns:', list(df.columns)[:50], ('...' if df.shape[1] > 50 else ''))\n",
    "df.head(3)"
   ]
  },
  {
   "cell_type": "code",
   "execution_count": 7,
   "id": "09bdac4d",
   "metadata": {},
   "outputs": [
    {
     "name": "stdout",
     "output_type": "stream",
     "text": [
      "[None 'gpt-4o-mini']\n",
      "explanationModelName\n",
      "gpt-4o-mini    139\n",
      "Name: count, dtype: int64\n"
     ]
    }
   ],
   "source": [
    "# Check all unique explanationModelNames\n",
    "print(df['explanationModelName'].unique())\n",
    "\n",
    "# Get counts\n",
    "print(df['explanationModelName'].value_counts())"
   ]
  },
  {
   "cell_type": "code",
   "execution_count": 8,
   "id": "7fbaecf7",
   "metadata": {},
   "outputs": [
    {
     "name": "stdout",
     "output_type": "stream",
     "text": [
      "65344\n"
     ]
    }
   ],
   "source": [
    "# Get number of entries\n",
    "print(len(df))"
   ]
  },
  {
   "cell_type": "code",
   "execution_count": 10,
   "id": "3a4a522d",
   "metadata": {},
   "outputs": [
    {
     "name": "stdout",
     "output_type": "stream",
     "text": [
      "65344\n"
     ]
    }
   ],
   "source": [
    "# Get number of non empty descriptions\n",
    "print(df['description'].notna().sum())"
   ]
  },
  {
   "cell_type": "code",
   "execution_count": 11,
   "id": "89c21b5b",
   "metadata": {},
   "outputs": [
    {
     "name": "stdout",
     "output_type": "stream",
     "text": [
      "['oai_token-act-pair']\n"
     ]
    }
   ],
   "source": [
    "print(df['typeName'].unique())"
   ]
  },
  {
   "cell_type": "code",
   "execution_count": 3,
   "id": "52150e06",
   "metadata": {},
   "outputs": [
    {
     "data": {
      "text/html": [
       "<div>\n",
       "<style scoped>\n",
       "    .dataframe tbody tr th:only-of-type {\n",
       "        vertical-align: middle;\n",
       "    }\n",
       "\n",
       "    .dataframe tbody tr th {\n",
       "        vertical-align: top;\n",
       "    }\n",
       "\n",
       "    .dataframe thead th {\n",
       "        text-align: right;\n",
       "    }\n",
       "</style>\n",
       "<table border=\"1\" class=\"dataframe\">\n",
       "  <thead>\n",
       "    <tr style=\"text-align: right;\">\n",
       "      <th></th>\n",
       "      <th>feature_id</th>\n",
       "      <th>description</th>\n",
       "      <th>label</th>\n",
       "    </tr>\n",
       "  </thead>\n",
       "  <tbody>\n",
       "    <tr>\n",
       "      <th>0</th>\n",
       "      <td>gemma-2-2b-12-gemmascope-res-65k-53844</td>\n",
       "      <td>variables and mathematical symbols in technic...</td>\n",
       "      <td>not-related</td>\n",
       "    </tr>\n",
       "    <tr>\n",
       "      <th>1</th>\n",
       "      <td>gemma-2-2b-12-gemmascope-res-65k-53847</td>\n",
       "      <td>opening and closing parentheses and backslashes</td>\n",
       "      <td>related</td>\n",
       "    </tr>\n",
       "    <tr>\n",
       "      <th>2</th>\n",
       "      <td>gemma-2-2b-12-gemmascope-res-65k-53890</td>\n",
       "      <td>data type declarations in code</td>\n",
       "      <td>related</td>\n",
       "    </tr>\n",
       "  </tbody>\n",
       "</table>\n",
       "</div>"
      ],
      "text/plain": [
       "                               feature_id  \\\n",
       "0  gemma-2-2b-12-gemmascope-res-65k-53844   \n",
       "1  gemma-2-2b-12-gemmascope-res-65k-53847   \n",
       "2  gemma-2-2b-12-gemmascope-res-65k-53890   \n",
       "\n",
       "                                         description        label  \n",
       "0   variables and mathematical symbols in technic...  not-related  \n",
       "1    opening and closing parentheses and backslashes      related  \n",
       "2                     data type declarations in code      related  "
      ]
     },
     "execution_count": 3,
     "metadata": {},
     "output_type": "execute_result"
    }
   ],
   "source": [
    "# Load the other cache file 12-gemmascope-res-65k__l0-21_classified_lambda\n",
    "with open(\"../../outputs/feature_classification/gemma-2-2b/12-gemmascope-res-65k__l0-21_formatting_classified_deepseek-v3-0324.json\", \"r\") as f:\n",
    "    classified_features = json.load(f)\n",
    "    \n",
    "# Convert to dataframe\n",
    "df_lambda = pd.DataFrame(classified_features)\n",
    "df_lambda.head(3)"
   ]
  },
  {
   "cell_type": "code",
   "execution_count": 4,
   "id": "dab24e81",
   "metadata": {},
   "outputs": [
    {
     "data": {
      "text/plain": [
       "label\n",
       "not-related    0.764462\n",
       "related        0.235538\n",
       "Name: proportion, dtype: float64"
      ]
     },
     "execution_count": 4,
     "metadata": {},
     "output_type": "execute_result"
    }
   ],
   "source": [
    "# Take value counts of classification column and divide by total length\n",
    "df_lambda[\"label\"].value_counts(normalize=True)"
   ]
  }
 ],
 "metadata": {
  "kernelspec": {
   "display_name": "fsrl",
   "language": "python",
   "name": "python3"
  },
  "language_info": {
   "codemirror_mode": {
    "name": "ipython",
    "version": 3
   },
   "file_extension": ".py",
   "mimetype": "text/x-python",
   "name": "python",
   "nbconvert_exporter": "python",
   "pygments_lexer": "ipython3",
   "version": "3.11.12"
  }
 },
 "nbformat": 4,
 "nbformat_minor": 5
}
