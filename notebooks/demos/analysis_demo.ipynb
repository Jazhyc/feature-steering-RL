{
 "cells": [
  {
   "cell_type": "code",
   "execution_count": 1,
   "id": "5a8749ba",
   "metadata": {},
   "outputs": [
    {
     "data": {
      "text/plain": [
       "True"
      ]
     },
     "execution_count": 1,
     "metadata": {},
     "output_type": "execute_result"
    }
   ],
   "source": [
    "%load_ext autoreload\n",
    "%autoreload 2\n",
    "\n",
    "from fsrl.utils import SAEfeatureAnalyzer\n",
    "from fsrl import SAEAdapter, HookedModel\n",
    "import os\n",
    "from dotenv import load_dotenv\n",
    "import torch\n",
    "from transformer_lens import HookedTransformer\n",
    "import json\n",
    "\n",
    "load_dotenv()"
   ]
  },
  {
   "cell_type": "code",
   "execution_count": null,
   "id": "93351111",
   "metadata": {},
   "outputs": [
    {
     "name": "stderr",
     "output_type": "stream",
     "text": [
      "/home/jazhyc/projects/FSRL/feature-steering-RL/.venv/lib/python3.11/site-packages/sae_lens/sae.py:151: UserWarning: \n",
      "This SAE has non-empty model_from_pretrained_kwargs. \n",
      "For optimal performance, load the model like so:\n",
      "model = HookedSAETransformer.from_pretrained_no_processing(..., **cfg.model_from_pretrained_kwargs)\n",
      "  warnings.warn(\n"
     ]
    },
    {
     "name": "stdout",
     "output_type": "stream",
     "text": [
      "trainable params: 1,622,016 || all params: 20,520,960 || trainable%: 7.9042\n",
      "Loaded pretrained model gpt2-small into HookedTransformer\n"
     ]
    }
   ],
   "source": [
    "device = \"cuda\" if torch.cuda.is_available() else \"cpu\"\n",
    "\n",
    "release = \"gpt2-small-res-jb\"\n",
    "sae_id = \"blocks.7.hook_resid_pre\"\n",
    "\n",
    "sae, cfg_dict, sparsity = SAEAdapter.from_pretrained(release, sae_id, device=device)\n",
    "model = HookedTransformer.from_pretrained(\"gpt2-small\", device=device)\n",
    "sae_model = HookedModel(model, sae)"
   ]
  },
  {
   "cell_type": "code",
   "execution_count": 16,
   "id": "360ab0f8",
   "metadata": {},
   "outputs": [
    {
     "name": "stdout",
     "output_type": "stream",
     "text": [
      "Fetching all explanations for gpt2-small/7-res-jb...\n",
      "Successfully loaded 24570 feature explanations.\n"
     ]
    }
   ],
   "source": [
    "np_api_key = os.environ[\"NEURONPEDIA_API_KEY\"]\n",
    "sae_analyzer = SAEfeatureAnalyzer(sae_model,np_api_key)"
   ]
  },
  {
   "cell_type": "code",
   "execution_count": 18,
   "id": "86f5c200",
   "metadata": {},
   "outputs": [
    {
     "name": "stdout",
     "output_type": "stream",
     "text": [
      "mathematical equations involving variables and functions\n"
     ]
    }
   ],
   "source": [
    "print(sae_analyzer.feature_info[0]['description'])"
   ]
  }
 ],
 "metadata": {
  "kernelspec": {
   "display_name": "fsrl",
   "language": "python",
   "name": "python3"
  },
  "language_info": {
   "codemirror_mode": {
    "name": "ipython",
    "version": 3
   },
   "file_extension": ".py",
   "mimetype": "text/x-python",
   "name": "python",
   "nbconvert_exporter": "python",
   "pygments_lexer": "ipython3",
   "version": "3.11.12"
  }
 },
 "nbformat": 4,
 "nbformat_minor": 5
}
