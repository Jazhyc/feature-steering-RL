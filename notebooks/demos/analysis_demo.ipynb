{
 "cells": [
  {
   "cell_type": "code",
   "execution_count": 1,
   "id": "5a8749ba",
   "metadata": {},
   "outputs": [
    {
     "data": {
      "text/plain": [
       "True"
      ]
     },
     "execution_count": 1,
     "metadata": {},
     "output_type": "execute_result"
    }
   ],
   "source": [
    "%load_ext autoreload\n",
    "%autoreload 2\n",
    "\n",
    "from fsrl.utils import SAEfeatureAnalyzer\n",
    "from fsrl import SAEAdapter, HookedModel\n",
    "import os\n",
    "from dotenv import load_dotenv\n",
    "import torch\n",
    "from transformer_lens import HookedTransformer\n",
    "import json\n",
    "\n",
    "load_dotenv()"
   ]
  },
  {
   "cell_type": "code",
   "execution_count": 2,
   "id": "93351111",
   "metadata": {},
   "outputs": [
    {
     "name": "stderr",
     "output_type": "stream",
     "text": [
      "/home/jazhyc/projects/FSRL/feature-steering-RL/.venv/lib/python3.10/site-packages/sae_lens/sae.py:151: UserWarning: \n",
      "This SAE has non-empty model_from_pretrained_kwargs. \n",
      "For optimal performance, load the model like so:\n",
      "model = HookedSAETransformer.from_pretrained_no_processing(..., **cfg.model_from_pretrained_kwargs)\n",
      "  warnings.warn(\n"
     ]
    },
    {
     "name": "stdout",
     "output_type": "stream",
     "text": [
      "Loaded pretrained model gpt2-small into HookedTransformer\n"
     ]
    }
   ],
   "source": [
    "device = \"cuda\" if torch.cuda.is_available() else \"cpu\"\n",
    "\n",
    "release = \"gpt2-small-res-jb\"\n",
    "sae_id = \"blocks.7.hook_resid_pre\"\n",
    "\n",
    "sae, cfg_dict, sparsity = SAEAdapter.from_pretrained(release, sae_id, device=device)\n",
    "model = HookedTransformer.from_pretrained(\"gpt2-small\", device=device)\n",
    "sae_model = HookedModel(model, sae)"
   ]
  },
  {
   "cell_type": "code",
   "execution_count": 3,
   "id": "360ab0f8",
   "metadata": {},
   "outputs": [
    {
     "name": "stdout",
     "output_type": "stream",
     "text": [
      "Fetching all explanations for gpt2-small/7-res-jb...\n",
      "Error fetching feature explanations: Invalid URL 'sk-np-lbYgBjL8FoB4PpAW6tvfPhWzO0ak1D7qjbZmBdnXiuw0': No scheme supplied. Perhaps you meant https://sk-np-lbYgBjL8FoB4PpAW6tvfPhWzO0ak1D7qjbZmBdnXiuw0?\n",
      "Response body: No response\n"
     ]
    }
   ],
   "source": [
    "np_api_key = os.environ[\"NEURONPEDIA_API_KEY\"]\n",
    "sae_analyzer = SAEfeatureAnalyzer(sae_model,np_api_key)"
   ]
  },
  {
   "cell_type": "code",
   "execution_count": 4,
   "id": "86f5c200",
   "metadata": {},
   "outputs": [
    {
     "ename": "KeyError",
     "evalue": "0",
     "output_type": "error",
     "traceback": [
      "\u001b[0;31m---------------------------------------------------------------------------\u001b[0m",
      "\u001b[0;31mKeyError\u001b[0m                                  Traceback (most recent call last)",
      "Cell \u001b[0;32mIn[4], line 1\u001b[0m\n\u001b[0;32m----> 1\u001b[0m \u001b[38;5;28mprint\u001b[39m(\u001b[43msae_analyzer\u001b[49m\u001b[38;5;241;43m.\u001b[39;49m\u001b[43mfeature_info\u001b[49m\u001b[43m[\u001b[49m\u001b[38;5;241;43m0\u001b[39;49m\u001b[43m]\u001b[49m[\u001b[38;5;124m'\u001b[39m\u001b[38;5;124mdescription\u001b[39m\u001b[38;5;124m'\u001b[39m])\n",
      "\u001b[0;31mKeyError\u001b[0m: 0"
     ]
    }
   ],
   "source": [
    "print(sae_analyzer.feature_info[0]['description'])"
   ]
  }
 ],
 "metadata": {
  "kernelspec": {
   "display_name": "fsrl",
   "language": "python",
   "name": "python3"
  },
  "language_info": {
   "codemirror_mode": {
    "name": "ipython",
    "version": 3
   },
   "file_extension": ".py",
   "mimetype": "text/x-python",
   "name": "python",
   "nbconvert_exporter": "python",
   "pygments_lexer": "ipython3",
   "version": "3.11.12"
  }
 },
 "nbformat": 4,
 "nbformat_minor": 5
}
