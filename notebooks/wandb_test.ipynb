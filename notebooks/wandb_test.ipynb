{
 "cells": [
  {
   "cell_type": "markdown",
   "id": "9479cb77",
   "metadata": {},
   "source": [
    "# Model Analysis and Visualization\n",
    "\n",
    "This notebook provides tools for downloading and analyzing trained models from Weights & Biases."
   ]
  },
  {
   "cell_type": "code",
   "execution_count": 2,
   "id": "0886639f",
   "metadata": {},
   "outputs": [
    {
     "name": "stdout",
     "output_type": "stream",
     "text": [
      "The autoreload extension is already loaded. To reload it, use:\n",
      "  %reload_ext autoreload\n"
     ]
    }
   ],
   "source": [
    "%load_ext autoreload\n",
    "%autoreload 2\n",
    "\n",
    "# Import required libraries\n",
    "from pathlib import Path\n",
    "\n",
    "# Import our wandb utilities\n",
    "from fsrl.utils.wandb_utils import (\n",
    "    WandBModelDownloader,\n",
    "    download_model_family,\n",
    "    list_model_family\n",
    ")\n",
    "\n",
    "import pandas as pd"
   ]
  },
  {
   "cell_type": "markdown",
   "id": "e68d6369",
   "metadata": {},
   "source": [
    "## Current Model Status\n",
    "\n",
    "Let's first check what models we currently have downloaded locally."
   ]
  },
  {
   "cell_type": "code",
   "execution_count": 3,
   "id": "296efec3",
   "metadata": {},
   "outputs": [
    {
     "name": "stdout",
     "output_type": "stream",
     "text": [
      "Current working directory: /home/jazhyc/projects/FSRL/feature-steering-RL/notebooks\n",
      "Models will be saved to: /home/jazhyc/projects/FSRL/feature-steering-RL/models\n",
      "Gemma2-2B models will go to: /home/jazhyc/projects/FSRL/feature-steering-RL/models/Gemma2_2B\n",
      "Expected path: /home/jazhyc/projects/FSRL/feature-steering-RL/models\n",
      "Paths match: True\n"
     ]
    }
   ],
   "source": [
    "# Test path resolution to ensure models go to the right place\n",
    "test_downloader = WandBModelDownloader(\n",
    "    entity=\"feature-steering-RL\",\n",
    "    project=\"Gemma2-2B\"\n",
    ")\n",
    "\n",
    "print(f\"Current working directory: {Path.cwd()}\")\n",
    "print(f\"Models will be saved to: {test_downloader.models_base_dir}\")\n",
    "print(f\"Gemma2-2B models will go to: {test_downloader.models_base_dir / 'Gemma2_2B'}\")\n",
    "\n",
    "# Verify this is correct\n",
    "expected_path = Path.cwd().parent / \"models\"\n",
    "print(f\"Expected path: {expected_path}\")\n",
    "print(f\"Paths match: {test_downloader.models_base_dir == expected_path}\")"
   ]
  },
  {
   "cell_type": "code",
   "execution_count": 4,
   "id": "b2e64672",
   "metadata": {},
   "outputs": [
    {
     "name": "stdout",
     "output_type": "stream",
     "text": [
      "Currently downloaded Gemma2-2B models: 0\n",
      "\n",
      "Models directory structure:\n",
      "  gpt2-debug/: 7 models\n",
      "  test/: 0 models\n"
     ]
    }
   ],
   "source": [
    "# Check what Gemma2 models we currently have downloaded\n",
    "current_models = list_model_family()\n",
    "print(f\"Currently downloaded Gemma2-2B models: {len(current_models)}\")\n",
    "for model in current_models:\n",
    "    print(f\"  - {model}\")\n",
    "\n",
    "# Also check the models directory structure\n",
    "models_dir = Path(\"../models\")\n",
    "print(f\"\\nModels directory structure:\")\n",
    "for item in models_dir.iterdir():\n",
    "    if item.is_dir():\n",
    "        model_count = len([x for x in item.iterdir() if x.is_dir()])\n",
    "        print(f\"  {item.name}/: {model_count} models\")"
   ]
  },
  {
   "cell_type": "markdown",
   "id": "d01081a3",
   "metadata": {},
   "source": [
    "## Explore Available WandB Runs\n",
    "\n",
    "Let's check what runs are available in the Gemma2-2B project on Weights & Biases."
   ]
  },
  {
   "cell_type": "code",
   "execution_count": 5,
   "id": "38cbc31a",
   "metadata": {},
   "outputs": [
    {
     "name": "stderr",
     "output_type": "stream",
     "text": [
      "INFO:fsrl.utils.wandb_utils:Found 2 completed runs in feature-steering-RL/Gemma2-2B\n"
     ]
    },
    {
     "name": "stdout",
     "output_type": "stream",
     "text": [
      "Found 2 completed runs\n",
      "\n",
      "Run Summary:\n",
      "           run_name    state  num_artifacts  already_downloaded\n",
      "hearty-wildflower-1 finished              1               False\n",
      "  ethereal-salad-14 finished              1               False\n",
      "\n",
      "Runs with model artifacts:\n",
      "  hearty-wildflower-1: 1 artifacts ⏳ Not downloaded\n",
      "    - adapter-hearty-wildflower-1:v0\n",
      "  ethereal-salad-14: 1 artifacts ⏳ Not downloaded\n",
      "    - adapter-ethereal-salad-14:v0\n",
      "\n",
      "Run Summary:\n",
      "           run_name    state  num_artifacts  already_downloaded\n",
      "hearty-wildflower-1 finished              1               False\n",
      "  ethereal-salad-14 finished              1               False\n",
      "\n",
      "Runs with model artifacts:\n",
      "  hearty-wildflower-1: 1 artifacts ⏳ Not downloaded\n",
      "    - adapter-hearty-wildflower-1:v0\n",
      "  ethereal-salad-14: 1 artifacts ⏳ Not downloaded\n",
      "    - adapter-ethereal-salad-14:v0\n"
     ]
    }
   ],
   "source": [
    "# Initialize the downloader\n",
    "downloader = WandBModelDownloader(\n",
    "    entity=\"feature-steering-RL\",\n",
    "    project=\"Gemma2-2B\"\n",
    ")\n",
    "\n",
    "# Get completed runs\n",
    "completed_runs = downloader.get_completed_runs()\n",
    "print(f\"Found {len(completed_runs)} completed runs\")\n",
    "\n",
    "# Create a summary DataFrame\n",
    "run_data = []\n",
    "for run in completed_runs:\n",
    "    artifacts = downloader.get_run_artifacts(run)\n",
    "    run_data.append({\n",
    "        'run_name': run.name,\n",
    "        'state': run.state,\n",
    "        'created_at': run.created_at,\n",
    "        'finished_at': getattr(run, 'finished_at', None),\n",
    "        'num_artifacts': len(artifacts),\n",
    "        'artifacts': [a.name for a in artifacts],\n",
    "        'already_downloaded': downloader.is_model_downloaded(\"gemma2_2B-fsrl\", run.name)\n",
    "    })\n",
    "\n",
    "# Convert to DataFrame for better visualization\n",
    "runs_df = pd.DataFrame(run_data)\n",
    "print(f\"\\nRun Summary:\")\n",
    "print(runs_df[['run_name', 'state', 'num_artifacts', 'already_downloaded']].to_string(index=False))\n",
    "\n",
    "# Show details for runs with artifacts\n",
    "print(f\"\\nRuns with model artifacts:\")\n",
    "for _, row in runs_df[runs_df['num_artifacts'] > 0].iterrows():\n",
    "    status = \"✓ Downloaded\" if row['already_downloaded'] else \"⏳ Not downloaded\"\n",
    "    print(f\"  {row['run_name']}: {row['num_artifacts']} artifacts {status}\")\n",
    "    for artifact in row['artifacts']:\n",
    "        print(f\"    - {artifact}\")"
   ]
  },
  {
   "cell_type": "markdown",
   "id": "d25f6631",
   "metadata": {},
   "source": [
    "## Download Models\n",
    "\n",
    "Now let's download all the completed models that haven't been downloaded yet."
   ]
  },
  {
   "cell_type": "code",
   "execution_count": 6,
   "id": "e5a157cd",
   "metadata": {},
   "outputs": [
    {
     "name": "stdout",
     "output_type": "stream",
     "text": [
      "Starting model download process...\n"
     ]
    },
    {
     "name": "stderr",
     "output_type": "stream",
     "text": [
      "INFO:fsrl.utils.wandb_utils:Found 2 completed runs in feature-steering-RL/Gemma2-2B\n",
      "INFO:fsrl.utils.wandb_utils:Processing run: hearty-wildflower-1 (state: finished)\n",
      "INFO:fsrl.utils.wandb_utils:Processing run: hearty-wildflower-1 (state: finished)\n",
      "INFO:fsrl.utils.wandb_utils:Downloading artifact adapter-hearty-wildflower-1:v0 from run hearty-wildflower-1\n",
      "INFO:fsrl.utils.wandb_utils:Downloading artifact adapter-hearty-wildflower-1:v0 from run hearty-wildflower-1\n",
      "\u001b[34m\u001b[1mwandb\u001b[0m:   3 of 3 files downloaded.  \n",
      "INFO:fsrl.utils.wandb_utils:Downloaded to /home/jazhyc/projects/FSRL/feature-steering-RL/models/Gemma2-2B/hearty-wildflower-1\n",
      "INFO:fsrl.utils.wandb_utils:Successfully downloaded 1 artifacts for run hearty-wildflower-1\n",
      "INFO:fsrl.utils.wandb_utils:Processing run: ethereal-salad-14 (state: finished)\n",
      "\u001b[34m\u001b[1mwandb\u001b[0m:   3 of 3 files downloaded.  \n",
      "INFO:fsrl.utils.wandb_utils:Downloaded to /home/jazhyc/projects/FSRL/feature-steering-RL/models/Gemma2-2B/hearty-wildflower-1\n",
      "INFO:fsrl.utils.wandb_utils:Successfully downloaded 1 artifacts for run hearty-wildflower-1\n",
      "INFO:fsrl.utils.wandb_utils:Processing run: ethereal-salad-14 (state: finished)\n",
      "INFO:fsrl.utils.wandb_utils:Downloading artifact adapter-ethereal-salad-14:v0 from run ethereal-salad-14\n",
      "INFO:fsrl.utils.wandb_utils:Downloading artifact adapter-ethereal-salad-14:v0 from run ethereal-salad-14\n",
      "\u001b[34m\u001b[1mwandb\u001b[0m:   3 of 3 files downloaded.  \n",
      "INFO:fsrl.utils.wandb_utils:Downloaded to /home/jazhyc/projects/FSRL/feature-steering-RL/models/Gemma2-2B/ethereal-salad-14\n",
      "INFO:fsrl.utils.wandb_utils:Successfully downloaded 1 artifacts for run ethereal-salad-14\n",
      "INFO:fsrl.utils.wandb_utils:Downloaded 2/2 models\n",
      "\u001b[34m\u001b[1mwandb\u001b[0m:   3 of 3 files downloaded.  \n",
      "INFO:fsrl.utils.wandb_utils:Downloaded to /home/jazhyc/projects/FSRL/feature-steering-RL/models/Gemma2-2B/ethereal-salad-14\n",
      "INFO:fsrl.utils.wandb_utils:Successfully downloaded 1 artifacts for run ethereal-salad-14\n",
      "INFO:fsrl.utils.wandb_utils:Downloaded 2/2 models\n"
     ]
    },
    {
     "name": "stdout",
     "output_type": "stream",
     "text": [
      "\n",
      "Download Results: 2/2 models downloaded\n",
      "✓ hearty-wildflower-1: /home/jazhyc/projects/FSRL/feature-steering-RL/models/Gemma2-2B/hearty-wildflower-1\n",
      "✓ ethereal-salad-14: /home/jazhyc/projects/FSRL/feature-steering-RL/models/Gemma2-2B/ethereal-salad-14\n"
     ]
    }
   ],
   "source": [
    "# Download all Gemma2 models (only downloads those not already present)\n",
    "print(\"Starting model download process...\")\n",
    "download_results = download_model_family(force_download=False)\n",
    "\n",
    "# Show results\n",
    "successful_downloads = sum(1 for path in download_results.values() if path is not None)\n",
    "print(f\"\\nDownload Results: {successful_downloads}/{len(download_results)} models downloaded\")\n",
    "\n",
    "for run_name, path in download_results.items():\n",
    "    if path is not None:\n",
    "        print(f\"✓ {run_name}: {path}\")\n",
    "    else:\n",
    "        print(f\"✗ {run_name}: No artifacts or download failed\")"
   ]
  },
  {
   "cell_type": "markdown",
   "id": "a8ac757e",
   "metadata": {},
   "source": [
    "## Verify Downloads\n",
    "\n",
    "Let's verify that the models were downloaded correctly and explore their structure."
   ]
  },
  {
   "cell_type": "code",
   "execution_count": 12,
   "id": "8b060d62",
   "metadata": {},
   "outputs": [
    {
     "name": "stdout",
     "output_type": "stream",
     "text": [
      "Total Gemma2-2B models after download: 2\n",
      "\n",
      "Model directory structure in ../models/Gemma2-2B:\n",
      "\n",
      "  📁 ethereal-salad-14/\n",
      "    📁 adapter/ (3 files)\n",
      "\n",
      "  📁 hearty-wildflower-1/\n",
      "    📁 adapter/ (3 files)\n"
     ]
    }
   ],
   "source": [
    "# Check updated model list\n",
    "updated_models = list_model_family()\n",
    "print(f\"Total Gemma2-2B models after download: {len(updated_models)}\")\n",
    "\n",
    "# Explore the structure of downloaded models\n",
    "models_base_path = Path(\"../models/Gemma2-2B\")\n",
    "if models_base_path.exists():\n",
    "    print(f\"\\nModel directory structure in {models_base_path}:\")\n",
    "    for model_dir in sorted(models_base_path.iterdir()):\n",
    "        if model_dir.is_dir():\n",
    "            files = list(model_dir.glob(\"*\"))\n",
    "            print(f\"\\n  📁 {model_dir.name}/\")\n",
    "            for file in sorted(files):\n",
    "                if file.is_file():\n",
    "                    size_mb = file.stat().st_size / (1024 * 1024)\n",
    "                    print(f\"    📄 {file.name} ({size_mb:.1f} MB)\")\n",
    "                elif file.is_dir():\n",
    "                    sub_files = len(list(file.glob(\"*\")))\n",
    "                    print(f\"    📁 {file.name}/ ({sub_files} files)\")\n",
    "else:\n",
    "    print(f\"Directory {models_base_path} does not exist yet.\")"
   ]
  }
 ],
 "metadata": {
  "kernelspec": {
   "display_name": "feature-steering-rl",
   "language": "python",
   "name": "python3"
  },
  "language_info": {
   "codemirror_mode": {
    "name": "ipython",
    "version": 3
   },
   "file_extension": ".py",
   "mimetype": "text/x-python",
   "name": "python",
   "nbconvert_exporter": "python",
   "pygments_lexer": "ipython3",
   "version": "3.11.12"
  }
 },
 "nbformat": 4,
 "nbformat_minor": 5
}
