{
 "cells": [
  {
   "cell_type": "markdown",
   "id": "800343fd",
   "metadata": {},
   "source": [
    "# Steering Fraction Evaluation — Line Plot\n",
    "\n",
    "This notebook plots evaluation loss vs. fraction of features used during the steering-fraction sweep experiment.\n",
    "\n",
    "Style and structure are adapted from the existing `wandb_results_plotting.ipynb`."
   ]
  },
  {
   "cell_type": "code",
   "execution_count": 6,
   "id": "c0097440",
   "metadata": {},
   "outputs": [
    {
     "name": "stdout",
     "output_type": "stream",
     "text": [
      "Plotting environment initialized.\n"
     ]
    }
   ],
   "source": [
    "import os\n",
    "import wandb\n",
    "import pandas as pd\n",
    "import matplotlib.pyplot as plt\n",
    "import seaborn as sns\n",
    "from dotenv import load_dotenv\n",
    "\n",
    "# Load environment variables\n",
    "load_dotenv()\n",
    "\n",
    "# Plotting style (inspired by existing notebook)\n",
    "plt.style.use('default')\n",
    "sns.set_palette('husl')\n",
    "plt.rcParams.update({\n",
    "    'figure.figsize': (12, 8),\n",
    "    'font.size': 12,\n",
    "    'font.family': 'sans-serif',\n",
    "    'text.usetex': False,\n",
    "    'axes.linewidth': 1.2,\n",
    "    'axes.spines.top': False,\n",
    "    'axes.spines.right': False,\n",
    "    'axes.grid': True,\n",
    "    'grid.alpha': 0.5,\n",
    "    'grid.linewidth': 1.0,\n",
    "    'xtick.direction': 'out',\n",
    "    'ytick.direction': 'out',\n",
    "    'xtick.major.size': 6,\n",
    "    'ytick.major.size': 6,\n",
    "    'legend.frameon': False,\n",
    "    'legend.fontsize': 11,\n",
    "    'figure.dpi': 100,\n",
    "    'savefig.dpi': 300,\n",
    "    'savefig.bbox': 'tight',\n",
    "    'savefig.pad_inches': 0.1\n",
    "})\n",
    "\n",
    "# Color palette\n",
    "colors = {\n",
    "    'primary': '#2E86AB',\n",
    "    'secondary': '#A23B72',\n",
    "    'accent': '#F18F01',\n",
    "    'success': '#C73E1D',\n",
    "    'neutral': '#6C757D',\n",
    "    'light': '#E9ECEF'\n",
    "}\n",
    "\n",
    "print('Plotting environment initialized.')"
   ]
  },
  {
   "cell_type": "markdown",
   "id": "ded185c0",
   "metadata": {},
   "source": [
    "## Configure W&B Source"
   ]
  },
  {
   "cell_type": "code",
   "execution_count": 7,
   "id": "422dd758",
   "metadata": {},
   "outputs": [
    {
     "name": "stdout",
     "output_type": "stream",
     "text": [
      "Using W&B: feature-steering-rl/fsrl-steering-fraction-eval\n"
     ]
    }
   ],
   "source": [
    "# Configure your W&B entity/project and (optionally) a specific run to plot\n",
    "entity = 'feature-steering-rl'   # adjusted to match existing notebook casing\n",
    "project = 'fsrl-steering-fraction-eval'\n",
    "run_name = \"northern-oath-7\"  # e.g., 'mild-glade-10' to force a specific run; None -> latest finished\n",
    "\n",
    "api = wandb.Api()\n",
    "print(f'Using W&B: {entity}/{project}')"
   ]
  },
  {
   "cell_type": "markdown",
   "id": "a072fc62",
   "metadata": {},
   "source": [
    "## Fetch Run and Build Data"
   ]
  },
  {
   "cell_type": "code",
   "execution_count": 8,
   "id": "cc2299dc",
   "metadata": {},
   "outputs": [
    {
     "name": "stdout",
     "output_type": "stream",
     "text": [
      "Selected run: northern-oath-7 mqpvqj5b\n",
      "Data points (unique fractions): 9\n",
      "Data points (unique fractions): 9\n"
     ]
    },
    {
     "data": {
      "text/html": [
       "<div>\n",
       "<style scoped>\n",
       "    .dataframe tbody tr th:only-of-type {\n",
       "        vertical-align: middle;\n",
       "    }\n",
       "\n",
       "    .dataframe tbody tr th {\n",
       "        vertical-align: top;\n",
       "    }\n",
       "\n",
       "    .dataframe thead th {\n",
       "        text-align: right;\n",
       "    }\n",
       "</style>\n",
       "<table border=\"1\" class=\"dataframe\">\n",
       "  <thead>\n",
       "    <tr style=\"text-align: right;\">\n",
       "      <th></th>\n",
       "      <th>steering_fraction</th>\n",
       "      <th>eval/loss</th>\n",
       "    </tr>\n",
       "  </thead>\n",
       "  <tbody>\n",
       "    <tr>\n",
       "      <th>0</th>\n",
       "      <td>0.001</td>\n",
       "      <td>6.317799</td>\n",
       "    </tr>\n",
       "    <tr>\n",
       "      <th>1</th>\n",
       "      <td>0.002</td>\n",
       "      <td>5.708132</td>\n",
       "    </tr>\n",
       "    <tr>\n",
       "      <th>2</th>\n",
       "      <td>0.004</td>\n",
       "      <td>3.509307</td>\n",
       "    </tr>\n",
       "    <tr>\n",
       "      <th>3</th>\n",
       "      <td>0.008</td>\n",
       "      <td>2.805999</td>\n",
       "    </tr>\n",
       "    <tr>\n",
       "      <th>4</th>\n",
       "      <td>0.016</td>\n",
       "      <td>2.689396</td>\n",
       "    </tr>\n",
       "  </tbody>\n",
       "</table>\n",
       "</div>"
      ],
      "text/plain": [
       "   steering_fraction  eval/loss\n",
       "0              0.001   6.317799\n",
       "1              0.002   5.708132\n",
       "2              0.004   3.509307\n",
       "3              0.008   2.805999\n",
       "4              0.016   2.689396"
      ]
     },
     "execution_count": 8,
     "metadata": {},
     "output_type": "execute_result"
    }
   ],
   "source": [
    "# Find the run: by display name if provided, otherwise latest finished\n",
    "runs = api.runs(f'{entity}/{project}')\n",
    "finished = [r for r in runs if r.state == 'finished']\n",
    "if not finished:\n",
    "    raise RuntimeError('No finished runs found in the project.')\n",
    "\n",
    "if run_name is not None:\n",
    "    picked = [r for r in finished if r.name == run_name]\n",
    "    if not picked:\n",
    "        raise RuntimeError(f'Run named {run_name!r} not found among finished runs.')\n",
    "    run = picked[0]\n",
    "else:\n",
    "    # pick latest by updated time\n",
    "    run = sorted(finished, key=lambda r: r.updated_at, reverse=True)[0]\n",
    "\n",
    "print('Selected run:', run.name, run.id)\n",
    "\n",
    "# Pull history for the logged metrics from the sweep script\n",
    "hist = run.history(keys=['steering_fraction', 'eval/loss'], pandas=True)\n",
    "raw = hist[['steering_fraction', 'eval/loss']].dropna()\n",
    "# Average across duplicate fractions if logged multiple times\n",
    "agg = raw.groupby('steering_fraction', as_index=False)['eval/loss'].mean()\n",
    "df = agg.sort_values('steering_fraction').reset_index(drop=True)\n",
    "print('Data points (unique fractions):', len(df))\n",
    "df.head()"
   ]
  },
  {
   "cell_type": "markdown",
   "id": "a7184fe8",
   "metadata": {},
   "source": [
    "## Line Plot: Evaluation Loss vs Steering Fraction"
   ]
  },
  {
   "cell_type": "code",
   "execution_count": 20,
   "id": "08215b03",
   "metadata": {},
   "outputs": [
    {
     "data": {
      "image/png": "[encoded data removed]",
      "text/plain": [
       "<Figure size 1200x800 with 1 Axes>"
      ]
     },
     "metadata": {},
     "output_type": "display_data"
    }
   ],
   "source": [
    "fig, ax = plt.subplots(figsize=(12, 8))\n",
    "fig.patch.set_facecolor('white')\n",
    "ax.set_facecolor('#FFFFFF')\n",
    "\n",
    "# Ensure strictly positive fractions for log-scale\n",
    "plot_df = df[df['steering_fraction'] > 0].copy()\n",
    "\n",
    "# Skip the last datapoint (20%)\n",
    "plot_df = plot_df[plot_df['steering_fraction'] < 0.2].copy()\n",
    "\n",
    "# Line plot with markers\n",
    "ax.plot(\n",
    "    plot_df['steering_fraction'],\n",
    "    plot_df['eval/loss'],\n",
    "    color=colors['primary'],\n",
    "    marker='o',\n",
    "    linewidth=2,\n",
    "    markersize=6,\n",
    "    label=run.name\n",
    ")\n",
    "\n",
    "# Add text labels above each data point\n",
    "y_range = plot_df['eval/loss'].max() - plot_df['eval/loss'].min()\n",
    "for i, row in plot_df.iterrows():\n",
    "    # Position labels higher to avoid overlap with the line\n",
    "    label_offset_y = y_range * 0.02  # Increased offset for better separation\n",
    "    # Add horizontal offset to shift labels to the right\n",
    "    label_offset_x = row['steering_fraction'] * 1.1  # Shift right by 15%\n",
    "    ax.text(\n",
    "        label_offset_x, \n",
    "        row['eval/loss'] + label_offset_y,\n",
    "        f'{row[\"eval/loss\"]:.2f}',  # Changed to 2 decimal places\n",
    "        ha='center',\n",
    "        va='bottom',\n",
    "        fontsize=10,\n",
    "        fontweight='bold',\n",
    "        color=colors['neutral'],\n",
    "        bbox=dict(boxstyle='round,pad=0.3', facecolor='white', alpha=0.8, edgecolor='none')  # Add background box for better readability\n",
    "    )\n",
    "\n",
    "# Use logarithmic x-scale based on data distribution\n",
    "ax.set_xscale('log')\n",
    "# Place ticks at the actual data fractions\n",
    "xticks = sorted(plot_df['steering_fraction'].unique().tolist())\n",
    "ax.set_xticks(xticks)\n",
    "\n",
    "# Enhance styling to match existing style\n",
    "ax.spines['top'].set_visible(False)\n",
    "ax.spines['right'].set_visible(False)\n",
    "for spine in ['bottom', 'left']:\n",
    "    ax.spines[spine].set_linewidth(1.2)\n",
    "    ax.spines[spine].set_color(colors['neutral'])\n",
    "\n",
    "ax.grid(True, alpha=0.5, linestyle='-', linewidth=1.0, color=colors['light'])\n",
    "ax.set_axisbelow(True)\n",
    "\n",
    "# Axis labels and title\n",
    "ax.set_xlabel('Steering Fraction (% of features used)', fontsize=14, fontweight='bold', color=colors['neutral'])\n",
    "ax.set_ylabel('Evaluation Loss', fontsize=14, fontweight='bold', color=colors['neutral'])\n",
    "# ax.set_title('Evaluation Loss vs Steering Fraction', fontsize=16, fontweight='bold', color=colors['neutral'], pad=20)\n",
    "\n",
    "# Format x-axis as percentages for readability\n",
    "from matplotlib.ticker import FuncFormatter\n",
    "ax.xaxis.set_major_formatter(FuncFormatter(lambda x, pos: f'{x*100:.2f}%'))\n",
    "\n",
    "# ax.legend(loc='best')\n",
    "plt.show()"
   ]
  },
  {
   "cell_type": "markdown",
   "id": "f408ab59",
   "metadata": {},
   "source": [
    "## Save Data and Figure"
   ]
  },
  {
   "cell_type": "code",
   "execution_count": 10,
   "id": "19190e81",
   "metadata": {},
   "outputs": [
    {
     "name": "stdout",
     "output_type": "stream",
     "text": [
      "Saved:\n",
      " - outputs/northern-oath-7_steering_fraction_eval.csv\n",
      " - outputs/northern-oath-7_eval_loss_vs_fraction.png\n",
      " - outputs/northern-oath-7_eval_loss_vs_fraction.pdf\n"
     ]
    }
   ],
   "source": [
    "output_dir = 'outputs'\n",
    "os.makedirs(output_dir, exist_ok=True)\n",
    "\n",
    "csv_path = os.path.join(output_dir, f'{run.name}_steering_fraction_eval.csv')\n",
    "png_path = os.path.join(output_dir, f'{run.name}_eval_loss_vs_fraction.png')\n",
    "pdf_path = os.path.join(output_dir, f'{run.name}_eval_loss_vs_fraction.pdf')\n",
    "\n",
    "# Save data and figure\n",
    "df.to_csv(csv_path, index=False)\n",
    "\n",
    "# Ensure the plotted figure exists in scope\n",
    "try:\n",
    "    fig\n",
    "except NameError:\n",
    "    raise RuntimeError('Plot figure not found. Please run the plotting cell first.')\n",
    "\n",
    "# Ensure the canvas is drawn before saving (avoids blank images on some backends)\n",
    "fig.canvas.draw()\n",
    "\n",
    "# Save as PNG\n",
    "fig.savefig(png_path, dpi=300, bbox_inches='tight', facecolor='#FAFAFA', edgecolor='none')\n",
    "\n",
    "# Save as PDF (high quality vector format)\n",
    "fig.savefig(pdf_path, format='pdf', bbox_inches='tight', facecolor='#FAFAFA', edgecolor='none')\n",
    "\n",
    "print('Saved:')\n",
    "print(' -', csv_path)\n",
    "print(' -', png_path)\n",
    "print(' -', pdf_path)"
   ]
  }
 ],
 "metadata": {
  "kernelspec": {
   "display_name": "fsrl",
   "language": "python",
   "name": "python3"
  },
  "language_info": {
   "codemirror_mode": {
    "name": "ipython",
    "version": 3
   },
   "file_extension": ".py",
   "mimetype": "text/x-python",
   "name": "python",
   "nbconvert_exporter": "python",
   "pygments_lexer": "ipython3",
   "version": "3.10.12"
  }
 },
 "nbformat": 4,
 "nbformat_minor": 5
}
